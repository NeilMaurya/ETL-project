{
 "cells": [
  {
   "cell_type": "code",
   "execution_count": 1,
   "id": "734c3f54-ee00-490a-ab99-6763fcb8e2b0",
   "metadata": {},
   "outputs": [],
   "source": [
    "import requests\n",
    "import pandas as pd"
   ]
  },
  {
   "cell_type": "code",
   "execution_count": 2,
   "id": "ad5541be-5758-4d84-a5cd-92bc34c2db84",
   "metadata": {},
   "outputs": [
    {
     "name": "stdout",
     "output_type": "stream",
     "text": [
      "{'Meta Data': {'1. Information': 'Intraday (5min) open, high, low, close prices and volume', '2. Symbol': 'IBM', '3. Last Refreshed': '2025-05-30 19:55:00', '4. Interval': '5min', '5. Output Size': 'Compact', '6. Time Zone': 'US/Eastern'}, 'Time Series (5min)': {'2025-05-30 19:55:00': {'1. open': '259.0500', '2. high': '259.0500', '3. low': '259.0000', '4. close': '259.0000', '5. volume': '31'}, '2025-05-30 19:45:00': {'1. open': '259.0500', '2. high': '259.0500', '3. low': '259.0500', '4. close': '259.0500', '5. volume': '5'}, '2025-05-30 19:30:00': {'1. open': '257.6500', '2. high': '257.6500', '3. low': '257.6500', '4. close': '257.6500', '5. volume': '4'}, '2025-05-30 19:20:00': {'1. open': '259.0000', '2. high': '259.0000', '3. low': '259.0000', '4. close': '259.0000', '5. volume': '50'}, '2025-05-30 19:15:00': {'1. open': '258.8250', '2. high': '259.0000', '3. low': '258.8250', '4. close': '259.0000', '5. volume': '10'}, '2025-05-30 19:00:00': {'1. open': '259.0600', '2. high': '259.0600', '3. low': '259.0600', '4. close': '259.0600', '5. volume': '5411686'}, '2025-05-30 18:55:00': {'1. open': '259.0000', '2. high': '259.0500', '3. low': '259.0000', '4. close': '259.0500', '5. volume': '168'}, '2025-05-30 18:45:00': {'1. open': '259.0500', '2. high': '259.0500', '3. low': '259.0500', '4. close': '259.0500', '5. volume': '49'}, '2025-05-30 18:40:00': {'1. open': '259.0600', '2. high': '259.0600', '3. low': '259.0600', '4. close': '259.0600', '5. volume': '12'}, '2025-05-30 18:35:00': {'1. open': '259.0800', '2. high': '259.0800', '3. low': '259.0600', '4. close': '259.0600', '5. volume': '774'}, '2025-05-30 18:30:00': {'1. open': '259.0600', '2. high': '259.0900', '3. low': '259.0000', '4. close': '259.0900', '5. volume': '5411747'}, '2025-05-30 18:25:00': {'1. open': '259.6988', '2. high': '259.6988', '3. low': '259.3000', '4. close': '259.3000', '5. volume': '3'}, '2025-05-30 18:15:00': {'1. open': '259.0000', '2. high': '259.0000', '3. low': '259.0000', '4. close': '259.0000', '5. volume': '1'}, '2025-05-30 18:10:00': {'1. open': '259.6900', '2. high': '259.6900', '3. low': '259.6900', '4. close': '259.6900', '5. volume': '8'}, '2025-05-30 18:05:00': {'1. open': '259.7000', '2. high': '259.7000', '3. low': '259.7000', '4. close': '259.7000', '5. volume': '1'}, '2025-05-30 17:55:00': {'1. open': '259.7000', '2. high': '259.7000', '3. low': '259.7000', '4. close': '259.7000', '5. volume': '4'}, '2025-05-30 17:50:00': {'1. open': '259.7000', '2. high': '259.7000', '3. low': '259.7000', '4. close': '259.7000', '5. volume': '2'}, '2025-05-30 17:45:00': {'1. open': '260.0000', '2. high': '260.0000', '3. low': '259.7000', '4. close': '259.7000', '5. volume': '21'}, '2025-05-30 17:40:00': {'1. open': '259.9500', '2. high': '259.9500', '3. low': '259.9500', '4. close': '259.9500', '5. volume': '1'}, '2025-05-30 17:35:00': {'1. open': '259.8700', '2. high': '259.8700', '3. low': '259.8700', '4. close': '259.8700', '5. volume': '3'}, '2025-05-30 17:25:00': {'1. open': '259.0700', '2. high': '259.8700', '3. low': '259.0000', '4. close': '259.8700', '5. volume': '125'}, '2025-05-30 17:20:00': {'1. open': '259.0600', '2. high': '260.0000', '3. low': '259.0600', '4. close': '259.0700', '5. volume': '174'}, '2025-05-30 17:15:00': {'1. open': '259.8800', '2. high': '259.8800', '3. low': '259.8800', '4. close': '259.8800', '5. volume': '2'}, '2025-05-30 17:10:00': {'1. open': '259.0600', '2. high': '259.0600', '3. low': '259.0000', '4. close': '259.0000', '5. volume': '3'}, '2025-05-30 17:00:00': {'1. open': '259.1100', '2. high': '259.1100', '3. low': '259.0600', '4. close': '259.0600', '5. volume': '80'}, '2025-05-30 16:55:00': {'1. open': '257.6500', '2. high': '259.0600', '3. low': '257.6500', '4. close': '259.0600', '5. volume': '6'}, '2025-05-30 16:50:00': {'1. open': '258.9000', '2. high': '260.1188', '3. low': '258.9000', '4. close': '259.1900', '5. volume': '56'}, '2025-05-30 16:45:00': {'1. open': '260.0000', '2. high': '260.0744', '3. low': '257.5700', '4. close': '259.0600', '5. volume': '264'}, '2025-05-30 16:40:00': {'1. open': '259.0600', '2. high': '259.1000', '3. low': '259.0600', '4. close': '259.0600', '5. volume': '12516'}, '2025-05-30 16:35:00': {'1. open': '260.0000', '2. high': '260.0000', '3. low': '259.0600', '4. close': '260.0000', '5. volume': '462'}, '2025-05-30 16:30:00': {'1. open': '259.0700', '2. high': '259.0700', '3. low': '259.0600', '4. close': '259.0600', '5. volume': '192'}, '2025-05-30 16:25:00': {'1. open': '259.0724', '2. high': '259.0724', '3. low': '259.0476', '4. close': '259.0724', '5. volume': '867'}, '2025-05-30 16:20:00': {'1. open': '259.0600', '2. high': '260.0000', '3. low': '259.0439', '4. close': '260.0000', '5. volume': '19017'}, '2025-05-30 16:15:00': {'1. open': '259.0600', '2. high': '259.1000', '3. low': '257.6337', '4. close': '259.0500', '5. volume': '715'}, '2025-05-30 16:10:00': {'1. open': '259.0600', '2. high': '259.0706', '3. low': '258.4220', '4. close': '259.0600', '5. volume': '5850287'}, '2025-05-30 16:05:00': {'1. open': '259.0600', '2. high': '259.0683', '3. low': '259.0470', '4. close': '259.0600', '5. volume': '248733'}, '2025-05-30 16:00:00': {'1. open': '258.7600', '2. high': '259.2000', '3. low': '258.3800', '4. close': '259.0600', '5. volume': '11612518'}, '2025-05-30 15:55:00': {'1. open': '258.6600', '2. high': '259.2600', '3. low': '258.4700', '4. close': '258.8200', '5. volume': '865798'}, '2025-05-30 15:50:00': {'1. open': '258.9700', '2. high': '259.3900', '3. low': '258.4700', '4. close': '258.6100', '5. volume': '303714'}, '2025-05-30 15:45:00': {'1. open': '259.1100', '2. high': '259.2000', '3. low': '258.6500', '4. close': '258.9700', '5. volume': '163652'}, '2025-05-30 15:40:00': {'1. open': '259.6500', '2. high': '259.6500', '3. low': '259.0000', '4. close': '259.0700', '5. volume': '88164'}, '2025-05-30 15:35:00': {'1. open': '260.0300', '2. high': '260.1000', '3. low': '259.7100', '4. close': '259.7100', '5. volume': '55640'}, '2025-05-30 15:30:00': {'1. open': '260.0400', '2. high': '260.0500', '3. low': '259.7600', '4. close': '260.0500', '5. volume': '34251'}, '2025-05-30 15:25:00': {'1. open': '259.9350', '2. high': '260.1200', '3. low': '259.9100', '4. close': '260.0800', '5. volume': '32448'}, '2025-05-30 15:20:00': {'1. open': '259.8600', '2. high': '259.9899', '3. low': '259.7200', '4. close': '259.9899', '5. volume': '32446'}, '2025-05-30 15:15:00': {'1. open': '259.4900', '2. high': '259.9700', '3. low': '259.4400', '4. close': '259.8600', '5. volume': '29926'}, '2025-05-30 15:10:00': {'1. open': '259.3800', '2. high': '259.5074', '3. low': '259.2600', '4. close': '259.4900', '5. volume': '17619'}, '2025-05-30 15:05:00': {'1. open': '259.4150', '2. high': '259.5600', '3. low': '259.3100', '4. close': '259.5400', '5. volume': '24326'}, '2025-05-30 15:00:00': {'1. open': '258.8500', '2. high': '259.4500', '3. low': '258.8500', '4. close': '259.4300', '5. volume': '23757'}, '2025-05-30 14:55:00': {'1. open': '258.9100', '2. high': '258.9934', '3. low': '258.8000', '4. close': '258.9300', '5. volume': '20387'}, '2025-05-30 14:50:00': {'1. open': '258.7600', '2. high': '258.9400', '3. low': '258.7501', '4. close': '258.9100', '5. volume': '16136'}, '2025-05-30 14:45:00': {'1. open': '258.5600', '2. high': '258.7500', '3. low': '258.5600', '4. close': '258.7000', '5. volume': '11629'}, '2025-05-30 14:40:00': {'1. open': '258.5909', '2. high': '258.6200', '3. low': '258.4100', '4. close': '258.5300', '5. volume': '18456'}, '2025-05-30 14:35:00': {'1. open': '258.4200', '2. high': '258.7400', '3. low': '258.4200', '4. close': '258.5300', '5. volume': '14570'}, '2025-05-30 14:30:00': {'1. open': '258.5800', '2. high': '258.6515', '3. low': '258.4200', '4. close': '258.4450', '5. volume': '17308'}, '2025-05-30 14:25:00': {'1. open': '258.7300', '2. high': '258.7900', '3. low': '258.5600', '4. close': '258.5600', '5. volume': '15896'}, '2025-05-30 14:20:00': {'1. open': '258.8100', '2. high': '258.8300', '3. low': '258.6600', '4. close': '258.7300', '5. volume': '11291'}, '2025-05-30 14:15:00': {'1. open': '258.4100', '2. high': '258.8000', '3. low': '258.2896', '4. close': '258.7400', '5. volume': '50269'}, '2025-05-30 14:10:00': {'1. open': '258.2450', '2. high': '258.4400', '3. low': '258.2450', '4. close': '258.4300', '5. volume': '19648'}, '2025-05-30 14:05:00': {'1. open': '257.9900', '2. high': '258.3500', '3. low': '257.8400', '4. close': '258.2675', '5. volume': '23351'}, '2025-05-30 14:00:00': {'1. open': '257.6300', '2. high': '258.0750', '3. low': '257.6200', '4. close': '258.0300', '5. volume': '25603'}, '2025-05-30 13:55:00': {'1. open': '257.7700', '2. high': '257.7700', '3. low': '257.5600', '4. close': '257.5750', '5. volume': '13366'}, '2025-05-30 13:50:00': {'1. open': '257.4950', '2. high': '257.8500', '3. low': '257.4950', '4. close': '257.7450', '5. volume': '14347'}, '2025-05-30 13:45:00': {'1. open': '257.3850', '2. high': '257.5400', '3. low': '257.3300', '4. close': '257.5266', '5. volume': '11331'}, '2025-05-30 13:40:00': {'1. open': '257.5500', '2. high': '257.6800', '3. low': '257.3900', '4. close': '257.3900', '5. volume': '12093'}, '2025-05-30 13:35:00': {'1. open': '257.5300', '2. high': '257.6606', '3. low': '257.3412', '4. close': '257.5497', '5. volume': '15843'}, '2025-05-30 13:30:00': {'1. open': '257.6550', '2. high': '257.7500', '3. low': '257.4500', '4. close': '257.5600', '5. volume': '12497'}, '2025-05-30 13:25:00': {'1. open': '257.5000', '2. high': '257.6100', '3. low': '257.3450', '4. close': '257.6100', '5. volume': '10998'}, '2025-05-30 13:20:00': {'1. open': '257.5900', '2. high': '257.6600', '3. low': '257.3800', '4. close': '257.4700', '5. volume': '13667'}, '2025-05-30 13:15:00': {'1. open': '257.5300', '2. high': '257.5800', '3. low': '257.3700', '4. close': '257.5460', '5. volume': '12757'}, '2025-05-30 13:10:00': {'1. open': '257.7750', '2. high': '257.7750', '3. low': '257.5100', '4. close': '257.5100', '5. volume': '10115'}, '2025-05-30 13:05:00': {'1. open': '257.5800', '2. high': '257.8799', '3. low': '257.5300', '4. close': '257.7700', '5. volume': '13851'}, '2025-05-30 13:00:00': {'1. open': '257.3300', '2. high': '257.6250', '3. low': '257.2900', '4. close': '257.5300', '5. volume': '13506'}, '2025-05-30 12:55:00': {'1. open': '257.2550', '2. high': '257.4100', '3. low': '257.1800', '4. close': '257.4100', '5. volume': '12040'}, '2025-05-30 12:50:00': {'1. open': '257.5650', '2. high': '257.5650', '3. low': '257.1900', '4. close': '257.1900', '5. volume': '26724'}, '2025-05-30 12:45:00': {'1. open': '257.5450', '2. high': '257.7609', '3. low': '257.4801', '4. close': '257.5700', '5. volume': '11152'}, '2025-05-30 12:40:00': {'1. open': '257.8785', '2. high': '257.9900', '3. low': '257.4700', '4. close': '257.5025', '5. volume': '11361'}, '2025-05-30 12:35:00': {'1. open': '257.4400', '2. high': '257.9600', '3. low': '257.2700', '4. close': '257.8900', '5. volume': '17742'}, '2025-05-30 12:30:00': {'1. open': '257.7700', '2. high': '257.7700', '3. low': '257.1000', '4. close': '257.3300', '5. volume': '17833'}, '2025-05-30 12:25:00': {'1. open': '258.3600', '2. high': '258.4700', '3. low': '257.6000', '4. close': '257.7600', '5. volume': '29192'}, '2025-05-30 12:20:00': {'1. open': '258.5750', '2. high': '258.6600', '3. low': '258.3400', '4. close': '258.4520', '5. volume': '11829'}, '2025-05-30 12:15:00': {'1. open': '258.9500', '2. high': '259.0100', '3. low': '258.4700', '4. close': '258.5750', '5. volume': '12953'}, '2025-05-30 12:10:00': {'1. open': '259.1500', '2. high': '259.2150', '3. low': '258.9300', '4. close': '258.9300', '5. volume': '13795'}, '2025-05-30 12:05:00': {'1. open': '258.8300', '2. high': '259.1800', '3. low': '258.8300', '4. close': '259.1400', '5. volume': '23147'}, '2025-05-30 12:00:00': {'1. open': '258.8550', '2. high': '258.9200', '3. low': '258.7400', '4. close': '258.8300', '5. volume': '12246'}, '2025-05-30 11:55:00': {'1. open': '258.9050', '2. high': '258.9800', '3. low': '258.7700', '4. close': '258.7900', '5. volume': '9010'}, '2025-05-30 11:50:00': {'1. open': '258.9400', '2. high': '259.0000', '3. low': '258.7800', '4. close': '258.8200', '5. volume': '14077'}, '2025-05-30 11:45:00': {'1. open': '258.5400', '2. high': '258.9496', '3. low': '258.5400', '4. close': '258.9496', '5. volume': '13585'}, '2025-05-30 11:40:00': {'1. open': '258.6900', '2. high': '258.7680', '3. low': '258.4400', '4. close': '258.5500', '5. volume': '12956'}, '2025-05-30 11:35:00': {'1. open': '258.5500', '2. high': '258.6900', '3. low': '258.4400', '4. close': '258.6000', '5. volume': '8945'}, '2025-05-30 11:30:00': {'1. open': '258.9600', '2. high': '259.0500', '3. low': '258.4500', '4. close': '258.5400', '5. volume': '18003'}, '2025-05-30 11:25:00': {'1. open': '258.8950', '2. high': '259.0600', '3. low': '258.7500', '4. close': '258.9607', '5. volume': '12433'}, '2025-05-30 11:20:00': {'1. open': '258.7100', '2. high': '259.0000', '3. low': '258.6800', '4. close': '258.8950', '5. volume': '10233'}, '2025-05-30 11:15:00': {'1. open': '258.8700', '2. high': '258.9100', '3. low': '258.7000', '4. close': '258.7300', '5. volume': '9849'}, '2025-05-30 11:10:00': {'1. open': '258.8300', '2. high': '259.0400', '3. low': '258.8000', '4. close': '258.9400', '5. volume': '13707'}, '2025-05-30 11:05:00': {'1. open': '258.7900', '2. high': '258.9470', '3. low': '258.6500', '4. close': '258.9005', '5. volume': '16834'}, '2025-05-30 11:00:00': {'1. open': '258.6900', '2. high': '258.8400', '3. low': '258.6450', '4. close': '258.7800', '5. volume': '10716'}, '2025-05-30 10:55:00': {'1. open': '258.7200', '2. high': '258.8950', '3. low': '258.5000', '4. close': '258.6050', '5. volume': '16789'}, '2025-05-30 10:50:00': {'1. open': '258.9100', '2. high': '258.9700', '3. low': '258.6400', '4. close': '258.6400', '5. volume': '12417'}, '2025-05-30 10:45:00': {'1. open': '258.7000', '2. high': '258.9990', '3. low': '258.5500', '4. close': '258.9200', '5. volume': '22284'}}}\n"
     ]
    }
   ],
   "source": [
    "url = 'https://www.alphavantage.co/query?function=TIME_SERIES_INTRADAY&symbol=IBM&interval=5min&apikey=XO6PY6AABZ9SDAXI'\n",
    "r = requests.get(url)\n",
    "data = r.json()\n",
    "\n",
    "print(data)"
   ]
  },
  {
   "cell_type": "code",
   "execution_count": 3,
   "id": "4b4cd9e4-c795-4abd-9791-c03e9964c232",
   "metadata": {},
   "outputs": [
    {
     "name": "stdout",
     "output_type": "stream",
     "text": [
      "dict_keys(['Meta Data', 'Time Series (5min)'])\n"
     ]
    }
   ],
   "source": [
    "print(data.keys())"
   ]
  },
  {
   "cell_type": "code",
   "execution_count": 4,
   "id": "57d021d6-e036-45b2-841c-d0a52c90966c",
   "metadata": {},
   "outputs": [
    {
     "name": "stdout",
     "output_type": "stream",
     "text": [
      "                 Date   1. open   2. high    3. low  4. close 5. volume\n",
      "0 2025-05-30 19:55:00  259.0500  259.0500  259.0000  259.0000        31\n",
      "1 2025-05-30 19:45:00  259.0500  259.0500  259.0500  259.0500         5\n",
      "2 2025-05-30 19:30:00  257.6500  257.6500  257.6500  257.6500         4\n",
      "3 2025-05-30 19:20:00  259.0000  259.0000  259.0000  259.0000        50\n",
      "4 2025-05-30 19:15:00  258.8250  259.0000  258.8250  259.0000        10\n"
     ]
    }
   ],
   "source": [
    "df = pd.DataFrame.from_dict(data['Time Series (5min)'], orient='index')\n",
    "df = df.reset_index().rename(columns={'index': 'Date'})\n",
    "df['Date'] = pd.to_datetime(df['Date'])\n",
    "\n",
    "print(df.head())"
   ]
  },
  {
   "cell_type": "code",
   "execution_count": 5,
   "id": "0bbf997b-7908-4dd5-a96b-8b3e0038988b",
   "metadata": {},
   "outputs": [
    {
     "name": "stdout",
     "output_type": "stream",
     "text": [
      "Number of columns: 6\n",
      "Column names: ['Date', '1. open', '2. high', '3. low', '4. close', '5. volume']\n"
     ]
    }
   ],
   "source": [
    "print(\"Number of columns:\", len(df.columns))\n",
    "print(\"Column names:\", df.columns.tolist())"
   ]
  },
  {
   "cell_type": "code",
   "execution_count": 6,
   "id": "be179387-f9bc-4d3b-b9eb-e8a607738841",
   "metadata": {},
   "outputs": [],
   "source": [
    "import pandas as pd\n",
    "from openpyxl import load_workbook\n",
    "from openpyxl.utils.dataframe import dataframe_to_rows"
   ]
  },
  {
   "cell_type": "code",
   "execution_count": 7,
   "id": "3bf5b5f8-a64a-4021-bd5d-dea599f22209",
   "metadata": {},
   "outputs": [],
   "source": [
    "df.dropna(inplace=True)\n",
    "df.drop_duplicates(inplace=True)\n",
    "df.columns = ['Date', 'Open', 'High', 'Low', 'Close', 'Volume']\n",
    "df['Open'] = pd.to_numeric(df['Open'], errors='coerce')\n",
    "df['High'] = pd.to_numeric(df['High'], errors='coerce')\n",
    "df['Low'] = pd.to_numeric(df['Low'], errors='coerce')\n",
    "df['Close'] = pd.to_numeric(df['Close'], errors='coerce')\n",
    "df['Volume'] = pd.to_numeric(df['Volume'], errors='coerce')"
   ]
  },
  {
   "cell_type": "code",
   "execution_count": 8,
   "id": "db3ecc7c-606d-4b4f-8ec9-3fd50d4a9da0",
   "metadata": {},
   "outputs": [],
   "source": [
    "df['Daily Change'] = df['Close'] - df['Open']\n",
    "df['Percentage Change'] = (df['Close'] - df['Open']) / df['Open'] * 100"
   ]
  },
  {
   "cell_type": "code",
   "execution_count": 9,
   "id": "368e625a-7166-4692-b32b-46ecf2e1bbbc",
   "metadata": {},
   "outputs": [],
   "source": [
    "df.columns = ['Date', 'Open', 'High', 'Low', 'Close', 'Volume', 'Daily Change', 'Percentage Change']\n"
   ]
  },
  {
   "cell_type": "code",
   "execution_count": 10,
   "id": "6d0fa9df-7e5e-419c-aa8e-d26836ceb884",
   "metadata": {},
   "outputs": [
    {
     "name": "stdout",
     "output_type": "stream",
     "text": [
      "Number of columns: 8\n",
      "Column names: ['Date', 'Open', 'High', 'Low', 'Close', 'Volume', 'Daily Change', 'Percentage Change']\n"
     ]
    }
   ],
   "source": [
    "print(\"Number of columns:\", len(df.columns))\n",
    "print(\"Column names:\", df.columns.tolist())"
   ]
  },
  {
   "cell_type": "code",
   "execution_count": 11,
   "id": "b77ba5ca-af9f-4c55-b7d0-5df008594673",
   "metadata": {},
   "outputs": [],
   "source": [
    "from sqlalchemy import create_engine"
   ]
  },
  {
   "cell_type": "code",
   "execution_count": 12,
   "id": "bdba3b3e-c7aa-4995-a246-4191217c52e3",
   "metadata": {},
   "outputs": [
    {
     "data": {
      "text/plain": [
       "100"
      ]
     },
     "execution_count": 12,
     "metadata": {},
     "output_type": "execute_result"
    }
   ],
   "source": [
    "engine = create_engine('sqlite:///stocks_data.db', echo=False)\n",
    "df.to_sql('stock_prices', con=engine, if_exists='replace', index=False)"
   ]
  },
  {
   "cell_type": "code",
   "execution_count": 15,
   "id": "b6d8a2f2-ff8e-4945-8170-98418f85c7d9",
   "metadata": {
    "scrolled": true
   },
   "outputs": [
    {
     "data": {
      "text/html": [
       "\n",
       "        <iframe\n",
       "            width=\"100%\"\n",
       "            height=\"650\"\n",
       "            src=\"http://127.0.0.1:8052/\"\n",
       "            frameborder=\"0\"\n",
       "            allowfullscreen\n",
       "            \n",
       "        ></iframe>\n",
       "        "
      ],
      "text/plain": [
       "<IPython.lib.display.IFrame at 0x1e165b03aa0>"
      ]
     },
     "metadata": {},
     "output_type": "display_data"
    }
   ],
   "source": [
    "import dash\n",
    "from dash import dcc, html\n",
    "from dash.dependencies import Input, Output\n",
    "import plotly.express as px\n",
    "\n",
    "app = dash.Dash(__name__)\n",
    "\n",
    "data = pd.read_sql('SELECT * FROM stock_prices', con=engine)\n",
    "\n",
    "fig = px.line(data, x='Date', y='Open', title='Stock Closing Prices Over Open')\n",
    "\n",
    "app.layout = html.Div(children=[\n",
    "    html.H1(children='Real-Time Stock Dashboard'),\n",
    "    dcc.Graph(id='line-plot', figure=fig)\n",
    "])\n",
    "\n",
    "if __name__ == '__main__':\n",
    "    app.run(debug=True, port=8052)"
   ]
  },
  {
   "cell_type": "code",
   "execution_count": 16,
   "id": "0c50fcf3-b27a-445e-a1f4-3634051e8565",
   "metadata": {},
   "outputs": [
    {
     "data": {
      "text/html": [
       "\n",
       "        <iframe\n",
       "            width=\"100%\"\n",
       "            height=\"650\"\n",
       "            src=\"http://127.0.0.1:8051/\"\n",
       "            frameborder=\"0\"\n",
       "            allowfullscreen\n",
       "            \n",
       "        ></iframe>\n",
       "        "
      ],
      "text/plain": [
       "<IPython.lib.display.IFrame at 0x1e164948cb0>"
      ]
     },
     "metadata": {},
     "output_type": "display_data"
    }
   ],
   "source": [
    "import dash\n",
    "from dash import dcc, html\n",
    "from dash.dependencies import Input, Output\n",
    "import plotly.graph_objects as go\n",
    "import plotly.express as px\n",
    "import pandas as pd\n",
    "\n",
    "app = dash.Dash(__name__)\n",
    "\n",
    "data = pd.read_sql('SELECT * FROM stock_prices', con=engine)\n",
    "\n",
    "fig_line = px.line(\n",
    "    data, \n",
    "    x='Date', \n",
    "    y='Close', \n",
    "    title='Stock Closing Prices Over Time',\n",
    "    color_discrete_sequence=['red']  \n",
    ")\n",
    "\n",
    "fig_bar = px.line(\n",
    "    data, \n",
    "    x='Date', \n",
    "    y='Open', \n",
    "    title='Stock Volume Over Time',\n",
    "    color_discrete_sequence=['blue']\n",
    ")\n",
    "\n",
    "combined_fig = go.Figure()\n",
    "\n",
    "for trace in fig_line.data:\n",
    "    combined_fig.add_trace(trace)\n",
    "\n",
    "for trace in fig_bar.data:\n",
    "    combined_fig.add_trace(trace)\n",
    "\n",
    "combined_fig.update_layout(title='Open vs Close')\n",
    "\n",
    "app.layout = html.Div(children=[\n",
    "    html.H1(children='Real-Time Stock Dashboard'),\n",
    "    dcc.Graph(id='combined-plot', figure=combined_fig)\n",
    "])\n",
    "\n",
    "if __name__ == '__main__':\n",
    "    app.run(debug=True, port=8051)\n"
   ]
  },
  {
   "cell_type": "code",
   "execution_count": null,
   "id": "82880c79-fee1-4a7b-adb7-e09ca7a05762",
   "metadata": {},
   "outputs": [],
   "source": []
  }
 ],
 "metadata": {
  "kernelspec": {
   "display_name": "Python 3 (ipykernel)",
   "language": "python",
   "name": "python3"
  },
  "language_info": {
   "codemirror_mode": {
    "name": "ipython",
    "version": 3
   },
   "file_extension": ".py",
   "mimetype": "text/x-python",
   "name": "python",
   "nbconvert_exporter": "python",
   "pygments_lexer": "ipython3",
   "version": "3.12.9"
  }
 },
 "nbformat": 4,
 "nbformat_minor": 5
}
